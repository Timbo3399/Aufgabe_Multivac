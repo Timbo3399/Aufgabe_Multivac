{
 "cells": [
  {
   "cell_type": "code",
   "execution_count": 1,
   "id": "79d1f1e6-52cb-4da3-b604-83cbdd1e1a93",
   "metadata": {},
   "outputs": [],
   "source": [
    "import pandas as pd\n",
    "import numpy as np\n",
    "import matplotlib as mp\n",
    "import matplotlib.pyplot as plt"
   ]
  },
  {
   "cell_type": "code",
   "execution_count": 2,
   "id": "299bbfb9-6fb1-408c-abfd-90ca67e4528a",
   "metadata": {},
   "outputs": [],
   "source": [
    "oee_data = pd.read_csv('Praxisnahe_Aufgabe/Aufgabe/oee_data.csv')\n",
    "package_data = pd.read_csv('Praxisnahe_Aufgabe/Aufgabe/package_data.csv')"
   ]
  },
  {
   "cell_type": "code",
   "execution_count": 3,
   "id": "6697fd60-f5e8-40bd-8610-ff5da6a4bdba",
   "metadata": {},
   "outputs": [
    {
     "data": {
      "text/html": [
       "<div>\n",
       "<style scoped>\n",
       "    .dataframe tbody tr th:only-of-type {\n",
       "        vertical-align: middle;\n",
       "    }\n",
       "\n",
       "    .dataframe tbody tr th {\n",
       "        vertical-align: top;\n",
       "    }\n",
       "\n",
       "    .dataframe thead th {\n",
       "        text-align: right;\n",
       "    }\n",
       "</style>\n",
       "<table border=\"1\" class=\"dataframe\">\n",
       "  <thead>\n",
       "    <tr style=\"text-align: right;\">\n",
       "      <th></th>\n",
       "      <th>machine_identifier</th>\n",
       "      <th>timestamp</th>\n",
       "      <th>expected_cycles_per_minute</th>\n",
       "      <th>actual_cycles_per_minute</th>\n",
       "    </tr>\n",
       "  </thead>\n",
       "  <tbody>\n",
       "    <tr>\n",
       "      <th>0</th>\n",
       "      <td>innovative_cheese_machine</td>\n",
       "      <td>2022-05-09T04:44:33.000Z</td>\n",
       "      <td>NaN</td>\n",
       "      <td>0.368070</td>\n",
       "    </tr>\n",
       "    <tr>\n",
       "      <th>1</th>\n",
       "      <td>innovative_cheese_machine</td>\n",
       "      <td>2022-05-30T18:51:51.000Z</td>\n",
       "      <td>NaN</td>\n",
       "      <td>5.289140</td>\n",
       "    </tr>\n",
       "    <tr>\n",
       "      <th>2</th>\n",
       "      <td>innovative_cheese_machine</td>\n",
       "      <td>2022-06-02T10:47:03.000Z</td>\n",
       "      <td>NaN</td>\n",
       "      <td>8.800000</td>\n",
       "    </tr>\n",
       "    <tr>\n",
       "      <th>3</th>\n",
       "      <td>innovative_cheese_machine</td>\n",
       "      <td>2022-06-05T20:20:38.000Z</td>\n",
       "      <td>NaN</td>\n",
       "      <td>8.800000</td>\n",
       "    </tr>\n",
       "    <tr>\n",
       "      <th>4</th>\n",
       "      <td>innovative_cheese_machine</td>\n",
       "      <td>2022-05-03T10:20:10.000Z</td>\n",
       "      <td>9.0</td>\n",
       "      <td>NaN</td>\n",
       "    </tr>\n",
       "    <tr>\n",
       "      <th>...</th>\n",
       "      <td>...</td>\n",
       "      <td>...</td>\n",
       "      <td>...</td>\n",
       "      <td>...</td>\n",
       "    </tr>\n",
       "    <tr>\n",
       "      <th>120181</th>\n",
       "      <td>innovative_cheese_machine</td>\n",
       "      <td>2022-07-29T21:04:47.000Z</td>\n",
       "      <td>NaN</td>\n",
       "      <td>3.699137</td>\n",
       "    </tr>\n",
       "    <tr>\n",
       "      <th>120182</th>\n",
       "      <td>innovative_cheese_machine</td>\n",
       "      <td>2022-07-30T13:18:54.000Z</td>\n",
       "      <td>5.0</td>\n",
       "      <td>0.000000</td>\n",
       "    </tr>\n",
       "    <tr>\n",
       "      <th>120183</th>\n",
       "      <td>innovative_cheese_machine</td>\n",
       "      <td>2022-07-30T12:21:56.000Z</td>\n",
       "      <td>5.0</td>\n",
       "      <td>0.000000</td>\n",
       "    </tr>\n",
       "    <tr>\n",
       "      <th>120184</th>\n",
       "      <td>innovative_cheese_machine</td>\n",
       "      <td>2022-07-31T15:48:32.000Z</td>\n",
       "      <td>5.0</td>\n",
       "      <td>0.000000</td>\n",
       "    </tr>\n",
       "    <tr>\n",
       "      <th>120185</th>\n",
       "      <td>innovative_cheese_machine</td>\n",
       "      <td>2022-07-31T16:45:30.000Z</td>\n",
       "      <td>5.0</td>\n",
       "      <td>0.000000</td>\n",
       "    </tr>\n",
       "  </tbody>\n",
       "</table>\n",
       "<p>120186 rows × 4 columns</p>\n",
       "</div>"
      ],
      "text/plain": [
       "               machine_identifier                 timestamp  \\\n",
       "0       innovative_cheese_machine  2022-05-09T04:44:33.000Z   \n",
       "1       innovative_cheese_machine  2022-05-30T18:51:51.000Z   \n",
       "2       innovative_cheese_machine  2022-06-02T10:47:03.000Z   \n",
       "3       innovative_cheese_machine  2022-06-05T20:20:38.000Z   \n",
       "4       innovative_cheese_machine  2022-05-03T10:20:10.000Z   \n",
       "...                           ...                       ...   \n",
       "120181  innovative_cheese_machine  2022-07-29T21:04:47.000Z   \n",
       "120182  innovative_cheese_machine  2022-07-30T13:18:54.000Z   \n",
       "120183  innovative_cheese_machine  2022-07-30T12:21:56.000Z   \n",
       "120184  innovative_cheese_machine  2022-07-31T15:48:32.000Z   \n",
       "120185  innovative_cheese_machine  2022-07-31T16:45:30.000Z   \n",
       "\n",
       "        expected_cycles_per_minute  actual_cycles_per_minute  \n",
       "0                              NaN                  0.368070  \n",
       "1                              NaN                  5.289140  \n",
       "2                              NaN                  8.800000  \n",
       "3                              NaN                  8.800000  \n",
       "4                              9.0                       NaN  \n",
       "...                            ...                       ...  \n",
       "120181                         NaN                  3.699137  \n",
       "120182                         5.0                  0.000000  \n",
       "120183                         5.0                  0.000000  \n",
       "120184                         5.0                  0.000000  \n",
       "120185                         5.0                  0.000000  \n",
       "\n",
       "[120186 rows x 4 columns]"
      ]
     },
     "execution_count": 3,
     "metadata": {},
     "output_type": "execute_result"
    }
   ],
   "source": [
    "oee_data"
   ]
  },
  {
   "cell_type": "code",
   "execution_count": 4,
   "id": "306217aa-125c-4069-b0b0-8ea065add25d",
   "metadata": {},
   "outputs": [
    {
     "data": {
      "text/plain": [
       "innovative_cheese_machine    120186\n",
       "Name: machine_identifier, dtype: int64"
      ]
     },
     "execution_count": 4,
     "metadata": {},
     "output_type": "execute_result"
    }
   ],
   "source": [
    "oee_data['machine_identifier'].value_counts()"
   ]
  },
  {
   "cell_type": "code",
   "execution_count": 5,
   "id": "a8275445-0fa9-4d7d-81e9-aad4820e73da",
   "metadata": {},
   "outputs": [
    {
     "data": {
      "text/plain": [
       "2022-05-19T09:11:29.000Z    2\n",
       "2022-05-10T14:49:56.000Z    2\n",
       "2022-05-09T04:44:33.000Z    1\n",
       "2022-06-22T14:31:39.000Z    1\n",
       "2022-06-22T08:35:25.000Z    1\n",
       "                           ..\n",
       "2022-06-01T19:30:57.000Z    1\n",
       "2022-05-05T18:13:56.000Z    1\n",
       "2022-05-11T14:15:17.000Z    1\n",
       "2022-06-13T14:22:37.000Z    1\n",
       "2022-07-31T16:45:30.000Z    1\n",
       "Name: timestamp, Length: 120184, dtype: int64"
      ]
     },
     "execution_count": 5,
     "metadata": {},
     "output_type": "execute_result"
    }
   ],
   "source": [
    "oee_data['timestamp'].value_counts()"
   ]
  },
  {
   "cell_type": "code",
   "execution_count": 6,
   "id": "c793f12c-5127-4b80-bf18-2b73b8625698",
   "metadata": {},
   "outputs": [
    {
     "data": {
      "text/html": [
       "<div>\n",
       "<style scoped>\n",
       "    .dataframe tbody tr th:only-of-type {\n",
       "        vertical-align: middle;\n",
       "    }\n",
       "\n",
       "    .dataframe tbody tr th {\n",
       "        vertical-align: top;\n",
       "    }\n",
       "\n",
       "    .dataframe thead th {\n",
       "        text-align: right;\n",
       "    }\n",
       "</style>\n",
       "<table border=\"1\" class=\"dataframe\">\n",
       "  <thead>\n",
       "    <tr style=\"text-align: right;\">\n",
       "      <th></th>\n",
       "      <th>expected_cycles_per_minute</th>\n",
       "      <th>actual_cycles_per_minute</th>\n",
       "    </tr>\n",
       "  </thead>\n",
       "  <tbody>\n",
       "    <tr>\n",
       "      <th>count</th>\n",
       "      <td>693.000000</td>\n",
       "      <td>119578.000000</td>\n",
       "    </tr>\n",
       "    <tr>\n",
       "      <th>mean</th>\n",
       "      <td>8.024531</td>\n",
       "      <td>6.134943</td>\n",
       "    </tr>\n",
       "    <tr>\n",
       "      <th>std</th>\n",
       "      <td>1.234864</td>\n",
       "      <td>2.793813</td>\n",
       "    </tr>\n",
       "    <tr>\n",
       "      <th>min</th>\n",
       "      <td>4.000000</td>\n",
       "      <td>0.000000</td>\n",
       "    </tr>\n",
       "    <tr>\n",
       "      <th>25%</th>\n",
       "      <td>7.500000</td>\n",
       "      <td>4.763417</td>\n",
       "    </tr>\n",
       "    <tr>\n",
       "      <th>50%</th>\n",
       "      <td>8.300000</td>\n",
       "      <td>7.000000</td>\n",
       "    </tr>\n",
       "    <tr>\n",
       "      <th>75%</th>\n",
       "      <td>9.000000</td>\n",
       "      <td>8.450705</td>\n",
       "    </tr>\n",
       "    <tr>\n",
       "      <th>max</th>\n",
       "      <td>15.000000</td>\n",
       "      <td>10.000000</td>\n",
       "    </tr>\n",
       "  </tbody>\n",
       "</table>\n",
       "</div>"
      ],
      "text/plain": [
       "       expected_cycles_per_minute  actual_cycles_per_minute\n",
       "count                  693.000000             119578.000000\n",
       "mean                     8.024531                  6.134943\n",
       "std                      1.234864                  2.793813\n",
       "min                      4.000000                  0.000000\n",
       "25%                      7.500000                  4.763417\n",
       "50%                      8.300000                  7.000000\n",
       "75%                      9.000000                  8.450705\n",
       "max                     15.000000                 10.000000"
      ]
     },
     "execution_count": 6,
     "metadata": {},
     "output_type": "execute_result"
    }
   ],
   "source": [
    "oee_data.describe()"
   ]
  },
  {
   "cell_type": "code",
   "execution_count": 7,
   "id": "b1a02ebc-a60a-4816-9b24-4724f08b1343",
   "metadata": {},
   "outputs": [
    {
     "data": {
      "text/html": [
       "<div>\n",
       "<style scoped>\n",
       "    .dataframe tbody tr th:only-of-type {\n",
       "        vertical-align: middle;\n",
       "    }\n",
       "\n",
       "    .dataframe tbody tr th {\n",
       "        vertical-align: top;\n",
       "    }\n",
       "\n",
       "    .dataframe thead th {\n",
       "        text-align: right;\n",
       "    }\n",
       "</style>\n",
       "<table border=\"1\" class=\"dataframe\">\n",
       "  <thead>\n",
       "    <tr style=\"text-align: right;\">\n",
       "      <th></th>\n",
       "      <th>machine_identifier</th>\n",
       "      <th>timestamp</th>\n",
       "      <th>good_packs</th>\n",
       "      <th>reject_packs</th>\n",
       "    </tr>\n",
       "  </thead>\n",
       "  <tbody>\n",
       "    <tr>\n",
       "      <th>0</th>\n",
       "      <td>innovative_cheese_machine</td>\n",
       "      <td>2022-05-04T13:05:49.295Z</td>\n",
       "      <td>23</td>\n",
       "      <td>1</td>\n",
       "    </tr>\n",
       "    <tr>\n",
       "      <th>1</th>\n",
       "      <td>innovative_cheese_machine</td>\n",
       "      <td>2022-05-04T01:15:28.947Z</td>\n",
       "      <td>24</td>\n",
       "      <td>0</td>\n",
       "    </tr>\n",
       "    <tr>\n",
       "      <th>2</th>\n",
       "      <td>innovative_cheese_machine</td>\n",
       "      <td>2022-05-04T06:13:54.767Z</td>\n",
       "      <td>20</td>\n",
       "      <td>4</td>\n",
       "    </tr>\n",
       "    <tr>\n",
       "      <th>3</th>\n",
       "      <td>innovative_cheese_machine</td>\n",
       "      <td>2022-05-04T03:35:29.769Z</td>\n",
       "      <td>24</td>\n",
       "      <td>0</td>\n",
       "    </tr>\n",
       "    <tr>\n",
       "      <th>4</th>\n",
       "      <td>innovative_cheese_machine</td>\n",
       "      <td>2022-05-04T03:53:27.950Z</td>\n",
       "      <td>24</td>\n",
       "      <td>0</td>\n",
       "    </tr>\n",
       "    <tr>\n",
       "      <th>...</th>\n",
       "      <td>...</td>\n",
       "      <td>...</td>\n",
       "      <td>...</td>\n",
       "      <td>...</td>\n",
       "    </tr>\n",
       "    <tr>\n",
       "      <th>270150</th>\n",
       "      <td>innovative_cheese_machine</td>\n",
       "      <td>2022-07-14T22:11:53.793Z</td>\n",
       "      <td>24</td>\n",
       "      <td>0</td>\n",
       "    </tr>\n",
       "    <tr>\n",
       "      <th>270151</th>\n",
       "      <td>innovative_cheese_machine</td>\n",
       "      <td>2022-07-14T23:02:16.448Z</td>\n",
       "      <td>23</td>\n",
       "      <td>1</td>\n",
       "    </tr>\n",
       "    <tr>\n",
       "      <th>270152</th>\n",
       "      <td>innovative_cheese_machine</td>\n",
       "      <td>2022-07-15T01:08:52.321Z</td>\n",
       "      <td>24</td>\n",
       "      <td>0</td>\n",
       "    </tr>\n",
       "    <tr>\n",
       "      <th>270153</th>\n",
       "      <td>innovative_cheese_machine</td>\n",
       "      <td>2022-07-14T22:10:55.457Z</td>\n",
       "      <td>24</td>\n",
       "      <td>0</td>\n",
       "    </tr>\n",
       "    <tr>\n",
       "      <th>270154</th>\n",
       "      <td>innovative_cheese_machine</td>\n",
       "      <td>2022-07-15T00:49:27.268Z</td>\n",
       "      <td>24</td>\n",
       "      <td>0</td>\n",
       "    </tr>\n",
       "  </tbody>\n",
       "</table>\n",
       "<p>270155 rows × 4 columns</p>\n",
       "</div>"
      ],
      "text/plain": [
       "               machine_identifier                 timestamp  good_packs  \\\n",
       "0       innovative_cheese_machine  2022-05-04T13:05:49.295Z          23   \n",
       "1       innovative_cheese_machine  2022-05-04T01:15:28.947Z          24   \n",
       "2       innovative_cheese_machine  2022-05-04T06:13:54.767Z          20   \n",
       "3       innovative_cheese_machine  2022-05-04T03:35:29.769Z          24   \n",
       "4       innovative_cheese_machine  2022-05-04T03:53:27.950Z          24   \n",
       "...                           ...                       ...         ...   \n",
       "270150  innovative_cheese_machine  2022-07-14T22:11:53.793Z          24   \n",
       "270151  innovative_cheese_machine  2022-07-14T23:02:16.448Z          23   \n",
       "270152  innovative_cheese_machine  2022-07-15T01:08:52.321Z          24   \n",
       "270153  innovative_cheese_machine  2022-07-14T22:10:55.457Z          24   \n",
       "270154  innovative_cheese_machine  2022-07-15T00:49:27.268Z          24   \n",
       "\n",
       "        reject_packs  \n",
       "0                  1  \n",
       "1                  0  \n",
       "2                  4  \n",
       "3                  0  \n",
       "4                  0  \n",
       "...              ...  \n",
       "270150             0  \n",
       "270151             1  \n",
       "270152             0  \n",
       "270153             0  \n",
       "270154             0  \n",
       "\n",
       "[270155 rows x 4 columns]"
      ]
     },
     "execution_count": 7,
     "metadata": {},
     "output_type": "execute_result"
    }
   ],
   "source": [
    "package_data"
   ]
  },
  {
   "cell_type": "code",
   "execution_count": 8,
   "id": "ea643005-d508-4aaa-9b9c-0d2994a75572",
   "metadata": {},
   "outputs": [
    {
     "data": {
      "text/html": [
       "<div>\n",
       "<style scoped>\n",
       "    .dataframe tbody tr th:only-of-type {\n",
       "        vertical-align: middle;\n",
       "    }\n",
       "\n",
       "    .dataframe tbody tr th {\n",
       "        vertical-align: top;\n",
       "    }\n",
       "\n",
       "    .dataframe thead th {\n",
       "        text-align: right;\n",
       "    }\n",
       "</style>\n",
       "<table border=\"1\" class=\"dataframe\">\n",
       "  <thead>\n",
       "    <tr style=\"text-align: right;\">\n",
       "      <th></th>\n",
       "      <th>good_packs</th>\n",
       "      <th>reject_packs</th>\n",
       "    </tr>\n",
       "  </thead>\n",
       "  <tbody>\n",
       "    <tr>\n",
       "      <th>count</th>\n",
       "      <td>270155.000000</td>\n",
       "      <td>270155.000000</td>\n",
       "    </tr>\n",
       "    <tr>\n",
       "      <th>mean</th>\n",
       "      <td>22.895986</td>\n",
       "      <td>1.087787</td>\n",
       "    </tr>\n",
       "    <tr>\n",
       "      <th>std</th>\n",
       "      <td>3.287498</td>\n",
       "      <td>3.231681</td>\n",
       "    </tr>\n",
       "    <tr>\n",
       "      <th>min</th>\n",
       "      <td>0.000000</td>\n",
       "      <td>0.000000</td>\n",
       "    </tr>\n",
       "    <tr>\n",
       "      <th>25%</th>\n",
       "      <td>23.000000</td>\n",
       "      <td>0.000000</td>\n",
       "    </tr>\n",
       "    <tr>\n",
       "      <th>50%</th>\n",
       "      <td>24.000000</td>\n",
       "      <td>0.000000</td>\n",
       "    </tr>\n",
       "    <tr>\n",
       "      <th>75%</th>\n",
       "      <td>24.000000</td>\n",
       "      <td>1.000000</td>\n",
       "    </tr>\n",
       "    <tr>\n",
       "      <th>max</th>\n",
       "      <td>24.000000</td>\n",
       "      <td>24.000000</td>\n",
       "    </tr>\n",
       "  </tbody>\n",
       "</table>\n",
       "</div>"
      ],
      "text/plain": [
       "          good_packs   reject_packs\n",
       "count  270155.000000  270155.000000\n",
       "mean       22.895986       1.087787\n",
       "std         3.287498       3.231681\n",
       "min         0.000000       0.000000\n",
       "25%        23.000000       0.000000\n",
       "50%        24.000000       0.000000\n",
       "75%        24.000000       1.000000\n",
       "max        24.000000      24.000000"
      ]
     },
     "execution_count": 8,
     "metadata": {},
     "output_type": "execute_result"
    }
   ],
   "source": [
    "package_data.describe()"
   ]
  },
  {
   "cell_type": "code",
   "execution_count": 9,
   "id": "882da774-5d41-49df-9577-0e187ab47a88",
   "metadata": {},
   "outputs": [
    {
     "data": {
      "text/plain": [
       "6185465.09783"
      ]
     },
     "execution_count": 9,
     "metadata": {},
     "output_type": "execute_result"
    }
   ],
   "source": [
    "22.895986*270155"
   ]
  },
  {
   "cell_type": "code",
   "execution_count": 10,
   "id": "00c28a4c-aaec-4407-b9a6-01e26f0bb809",
   "metadata": {},
   "outputs": [
    {
     "data": {
      "text/plain": [
       "6185465"
      ]
     },
     "execution_count": 10,
     "metadata": {},
     "output_type": "execute_result"
    }
   ],
   "source": [
    "package_data[\"good_packs\"].sum()"
   ]
  },
  {
   "cell_type": "code",
   "execution_count": 11,
   "id": "0f5d0578-6c0c-415a-870e-dbd00ef0ea2c",
   "metadata": {},
   "outputs": [
    {
     "data": {
      "text/plain": [
       "293871"
      ]
     },
     "execution_count": 11,
     "metadata": {},
     "output_type": "execute_result"
    }
   ],
   "source": [
    "package_data[\"reject_packs\"].sum()"
   ]
  },
  {
   "cell_type": "code",
   "execution_count": 13,
   "id": "3780c27e-c4d7-452c-ac35-f27c4e111db7",
   "metadata": {},
   "outputs": [
    {
     "data": {
      "text/plain": [
       "6479336"
      ]
     },
     "execution_count": 13,
     "metadata": {},
     "output_type": "execute_result"
    }
   ],
   "source": [
    "package_data[\"good_packs\"].sum() + package_data[\"reject_packs\"].sum()"
   ]
  }
 ],
 "metadata": {
  "kernelspec": {
   "display_name": "Python 3 (ipykernel)",
   "language": "python",
   "name": "python3"
  },
  "language_info": {
   "codemirror_mode": {
    "name": "ipython",
    "version": 3
   },
   "file_extension": ".py",
   "mimetype": "text/x-python",
   "name": "python",
   "nbconvert_exporter": "python",
   "pygments_lexer": "ipython3",
   "version": "3.10.9"
  }
 },
 "nbformat": 4,
 "nbformat_minor": 5
}
