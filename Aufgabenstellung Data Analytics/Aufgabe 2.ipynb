{
 "cells": [
  {
   "cell_type": "code",
   "execution_count": 19,
   "id": "57b67137-5235-4909-b1f2-b396fba66f05",
   "metadata": {},
   "outputs": [],
   "source": [
    "import pandas as pd\n",
    "import seaborn as sns"
   ]
  },
  {
   "cell_type": "code",
   "execution_count": 2,
   "id": "c1de756e-4209-46d2-88c6-733003b5cd7b",
   "metadata": {},
   "outputs": [],
   "source": [
    "oee_data = pd.read_csv('Praxisnahe_Aufgabe/Aufgabe/oee_data.csv')\n",
    "package_data = pd.read_csv('Praxisnahe_Aufgabe/Aufgabe/package_data.csv')\n",
    "recipe_data = pd.read_csv('Praxisnahe_Aufgabe/Aufgabe/recipe_data.csv')"
   ]
  },
  {
   "cell_type": "code",
   "execution_count": 3,
   "id": "142a681f-de13-4b5b-bba6-3f982624819a",
   "metadata": {},
   "outputs": [
    {
     "data": {
      "text/html": [
       "<div>\n",
       "<style scoped>\n",
       "    .dataframe tbody tr th:only-of-type {\n",
       "        vertical-align: middle;\n",
       "    }\n",
       "\n",
       "    .dataframe tbody tr th {\n",
       "        vertical-align: top;\n",
       "    }\n",
       "\n",
       "    .dataframe thead th {\n",
       "        text-align: right;\n",
       "    }\n",
       "</style>\n",
       "<table border=\"1\" class=\"dataframe\">\n",
       "  <thead>\n",
       "    <tr style=\"text-align: right;\">\n",
       "      <th></th>\n",
       "      <th>machine_identifier</th>\n",
       "      <th>timestamp</th>\n",
       "      <th>recipe</th>\n",
       "    </tr>\n",
       "  </thead>\n",
       "  <tbody>\n",
       "    <tr>\n",
       "      <th>0</th>\n",
       "      <td>innovative_cheese_machine</td>\n",
       "      <td>2022-06-06T20:51:16.477+0000</td>\n",
       "      <td>cheese sticks</td>\n",
       "    </tr>\n",
       "    <tr>\n",
       "      <th>1</th>\n",
       "      <td>innovative_cheese_machine</td>\n",
       "      <td>2022-05-02T12:28:08.513+0000</td>\n",
       "      <td>vegan parmesan</td>\n",
       "    </tr>\n",
       "    <tr>\n",
       "      <th>2</th>\n",
       "      <td>innovative_cheese_machine</td>\n",
       "      <td>2022-05-31T08:04:17.208+0000</td>\n",
       "      <td>vegan cheese sticks</td>\n",
       "    </tr>\n",
       "    <tr>\n",
       "      <th>3</th>\n",
       "      <td>innovative_cheese_machine</td>\n",
       "      <td>2022-07-07T11:04:10.479+0000</td>\n",
       "      <td>vegan hero 150g</td>\n",
       "    </tr>\n",
       "    <tr>\n",
       "      <th>4</th>\n",
       "      <td>innovative_cheese_machine</td>\n",
       "      <td>2022-06-22T22:19:12.227+0000</td>\n",
       "      <td>vegan hero 150g</td>\n",
       "    </tr>\n",
       "    <tr>\n",
       "      <th>...</th>\n",
       "      <td>...</td>\n",
       "      <td>...</td>\n",
       "      <td>...</td>\n",
       "    </tr>\n",
       "    <tr>\n",
       "      <th>85</th>\n",
       "      <td>innovative_cheese_machine</td>\n",
       "      <td>2022-05-31T10:55:45.190+0000</td>\n",
       "      <td>vegan cheese sticks</td>\n",
       "    </tr>\n",
       "    <tr>\n",
       "      <th>86</th>\n",
       "      <td>innovative_cheese_machine</td>\n",
       "      <td>2022-07-08T06:51:28.402+0000</td>\n",
       "      <td>vegan hero 150g</td>\n",
       "    </tr>\n",
       "    <tr>\n",
       "      <th>87</th>\n",
       "      <td>innovative_cheese_machine</td>\n",
       "      <td>2022-06-15T08:12:33.662+0000</td>\n",
       "      <td>cheese sticks</td>\n",
       "    </tr>\n",
       "    <tr>\n",
       "      <th>88</th>\n",
       "      <td>innovative_cheese_machine</td>\n",
       "      <td>2022-05-02T06:08:38.260+0000</td>\n",
       "      <td>vegan parmesan</td>\n",
       "    </tr>\n",
       "    <tr>\n",
       "      <th>89</th>\n",
       "      <td>innovative_cheese_machine</td>\n",
       "      <td>2022-05-27T12:37:17.207+0000</td>\n",
       "      <td>vegan parmesan</td>\n",
       "    </tr>\n",
       "  </tbody>\n",
       "</table>\n",
       "<p>90 rows × 3 columns</p>\n",
       "</div>"
      ],
      "text/plain": [
       "           machine_identifier                     timestamp  \\\n",
       "0   innovative_cheese_machine  2022-06-06T20:51:16.477+0000   \n",
       "1   innovative_cheese_machine  2022-05-02T12:28:08.513+0000   \n",
       "2   innovative_cheese_machine  2022-05-31T08:04:17.208+0000   \n",
       "3   innovative_cheese_machine  2022-07-07T11:04:10.479+0000   \n",
       "4   innovative_cheese_machine  2022-06-22T22:19:12.227+0000   \n",
       "..                        ...                           ...   \n",
       "85  innovative_cheese_machine  2022-05-31T10:55:45.190+0000   \n",
       "86  innovative_cheese_machine  2022-07-08T06:51:28.402+0000   \n",
       "87  innovative_cheese_machine  2022-06-15T08:12:33.662+0000   \n",
       "88  innovative_cheese_machine  2022-05-02T06:08:38.260+0000   \n",
       "89  innovative_cheese_machine  2022-05-27T12:37:17.207+0000   \n",
       "\n",
       "                 recipe  \n",
       "0         cheese sticks  \n",
       "1        vegan parmesan  \n",
       "2   vegan cheese sticks  \n",
       "3       vegan hero 150g  \n",
       "4       vegan hero 150g  \n",
       "..                  ...  \n",
       "85  vegan cheese sticks  \n",
       "86      vegan hero 150g  \n",
       "87        cheese sticks  \n",
       "88       vegan parmesan  \n",
       "89       vegan parmesan  \n",
       "\n",
       "[90 rows x 3 columns]"
      ]
     },
     "execution_count": 3,
     "metadata": {},
     "output_type": "execute_result"
    }
   ],
   "source": [
    "recipe_data"
   ]
  },
  {
   "cell_type": "code",
   "execution_count": 4,
   "id": "895b6335-756a-49aa-92c7-c56d3ae55513",
   "metadata": {},
   "outputs": [
    {
     "data": {
      "text/plain": [
       "vegan parmesan         45\n",
       "vegan hero 150g        18\n",
       "vegan cheese sticks    12\n",
       "cheese sticks          11\n",
       "vegan hero 400g         3\n",
       "test                    1\n",
       "Name: recipe, dtype: int64"
      ]
     },
     "execution_count": 4,
     "metadata": {},
     "output_type": "execute_result"
    }
   ],
   "source": [
    "recipe_data['recipe'].value_counts()"
   ]
  },
  {
   "cell_type": "code",
   "execution_count": 5,
   "id": "88833e92-e1b4-43bc-952a-263ad3524e90",
   "metadata": {},
   "outputs": [],
   "source": [
    "recipe_data_vegan_parmesan = recipe_data.loc[recipe_data['recipe'] == \"vegan parmesan\"]"
   ]
  },
  {
   "cell_type": "code",
   "execution_count": 6,
   "id": "8e1e40e5-e89b-4fbc-b9e7-0c2066cb68d5",
   "metadata": {},
   "outputs": [
    {
     "data": {
      "text/html": [
       "<div>\n",
       "<style scoped>\n",
       "    .dataframe tbody tr th:only-of-type {\n",
       "        vertical-align: middle;\n",
       "    }\n",
       "\n",
       "    .dataframe tbody tr th {\n",
       "        vertical-align: top;\n",
       "    }\n",
       "\n",
       "    .dataframe thead th {\n",
       "        text-align: right;\n",
       "    }\n",
       "</style>\n",
       "<table border=\"1\" class=\"dataframe\">\n",
       "  <thead>\n",
       "    <tr style=\"text-align: right;\">\n",
       "      <th></th>\n",
       "      <th>machine_identifier</th>\n",
       "      <th>timestamp</th>\n",
       "      <th>recipe</th>\n",
       "    </tr>\n",
       "  </thead>\n",
       "  <tbody>\n",
       "    <tr>\n",
       "      <th>1</th>\n",
       "      <td>innovative_cheese_machine</td>\n",
       "      <td>2022-05-02T12:28:08.513+0000</td>\n",
       "      <td>vegan parmesan</td>\n",
       "    </tr>\n",
       "    <tr>\n",
       "      <th>7</th>\n",
       "      <td>innovative_cheese_machine</td>\n",
       "      <td>2022-05-27T09:00:49.677+0000</td>\n",
       "      <td>vegan parmesan</td>\n",
       "    </tr>\n",
       "    <tr>\n",
       "      <th>8</th>\n",
       "      <td>innovative_cheese_machine</td>\n",
       "      <td>2022-05-02T07:22:22.632+0000</td>\n",
       "      <td>vegan parmesan</td>\n",
       "    </tr>\n",
       "    <tr>\n",
       "      <th>9</th>\n",
       "      <td>innovative_cheese_machine</td>\n",
       "      <td>2022-05-27T12:04:25.245+0000</td>\n",
       "      <td>vegan parmesan</td>\n",
       "    </tr>\n",
       "    <tr>\n",
       "      <th>11</th>\n",
       "      <td>innovative_cheese_machine</td>\n",
       "      <td>2022-05-25T14:26:53.309+0000</td>\n",
       "      <td>vegan parmesan</td>\n",
       "    </tr>\n",
       "  </tbody>\n",
       "</table>\n",
       "</div>"
      ],
      "text/plain": [
       "           machine_identifier                     timestamp          recipe\n",
       "1   innovative_cheese_machine  2022-05-02T12:28:08.513+0000  vegan parmesan\n",
       "7   innovative_cheese_machine  2022-05-27T09:00:49.677+0000  vegan parmesan\n",
       "8   innovative_cheese_machine  2022-05-02T07:22:22.632+0000  vegan parmesan\n",
       "9   innovative_cheese_machine  2022-05-27T12:04:25.245+0000  vegan parmesan\n",
       "11  innovative_cheese_machine  2022-05-25T14:26:53.309+0000  vegan parmesan"
      ]
     },
     "execution_count": 6,
     "metadata": {},
     "output_type": "execute_result"
    }
   ],
   "source": [
    "recipe_data_vegan_parmesan.head()"
   ]
  },
  {
   "cell_type": "code",
   "execution_count": 7,
   "id": "45f56adb-f3d7-4d7e-936e-31c3f9a6d358",
   "metadata": {},
   "outputs": [
    {
     "data": {
      "text/plain": [
       "2022-05-02T12:28:08.513+0000    1\n",
       "2022-05-25T08:54:08.573+0000    1\n",
       "2022-05-30T09:17:12.965+0000    1\n",
       "2022-05-02T04:26:54.623+0000    1\n",
       "2022-07-14T05:21:01.551+0000    1\n",
       "2022-07-22T12:25:54.015+0000    1\n",
       "2022-05-02T13:22:22.631+0000    1\n",
       "2022-05-27T07:24:23.930+0000    1\n",
       "2022-05-27T10:53:30.237+0000    1\n",
       "2022-05-09T06:53:54.860+0000    1\n",
       "2022-05-30T10:05:10.414+0000    1\n",
       "2022-05-02T05:18:23.930+0000    1\n",
       "2022-07-25T03:39:25.164+0000    1\n",
       "2022-06-16T21:19:45.540+0000    1\n",
       "2022-05-02T06:46:10.376+0000    1\n",
       "2022-07-14T05:44:06.358+0000    1\n",
       "2022-06-16T21:15:19.817+0000    1\n",
       "2022-07-15T04:13:29.524+0000    1\n",
       "2022-05-02T12:51:49.959+0000    1\n",
       "2022-05-25T13:49:29.262+0000    1\n",
       "2022-05-02T06:08:38.260+0000    1\n",
       "2022-05-06T16:51:30.723+0000    1\n",
       "2022-05-12T00:47:26.239+0000    1\n",
       "2022-05-27T09:00:49.677+0000    1\n",
       "2022-07-14T06:35:52.418+0000    1\n",
       "2022-05-02T07:22:22.632+0000    1\n",
       "2022-05-27T12:04:25.245+0000    1\n",
       "2022-05-25T14:26:53.309+0000    1\n",
       "2022-05-03T07:21:44.886+0000    1\n",
       "2022-05-25T15:26:56.395+0000    1\n",
       "2022-07-13T21:20:54.967+0000    1\n",
       "2022-05-27T11:36:19.240+0000    1\n",
       "2022-05-23T17:00:18.317+0000    1\n",
       "2022-05-02T04:26:37.727+0000    1\n",
       "2022-05-30T04:22:36.836+0000    1\n",
       "2022-05-30T09:34:31.216+0000    1\n",
       "2022-05-27T06:53:06.153+0000    1\n",
       "2022-05-23T14:21:58.214+0000    1\n",
       "2022-07-28T21:59:40.116+0000    1\n",
       "2022-05-25T15:49:28.431+0000    1\n",
       "2022-05-30T10:11:09.482+0000    1\n",
       "2022-05-25T12:01:21.255+0000    1\n",
       "2022-05-02T07:13:14.861+0000    1\n",
       "2022-05-30T08:28:53.303+0000    1\n",
       "2022-05-27T12:37:17.207+0000    1\n",
       "Name: timestamp, dtype: int64"
      ]
     },
     "execution_count": 7,
     "metadata": {},
     "output_type": "execute_result"
    }
   ],
   "source": [
    "recipe_data_vegan_parmesan['timestamp'].value_counts()"
   ]
  },
  {
   "cell_type": "code",
   "execution_count": 20,
   "id": "e643c7f9-0a1a-41bb-98b3-5c94af886dfb",
   "metadata": {},
   "outputs": [
    {
     "data": {
      "text/plain": [
       "<Axes: xlabel='timestamp', ylabel='reject_packs'>"
      ]
     },
     "execution_count": 20,
     "metadata": {},
     "output_type": "execute_result"
    },
    {
     "name": "stdout",
     "output_type": "stream",
     "text": [
      "Error in callback <function _draw_all_if_interactive at 0x000001319DE05F30> (for post_execute):\n"
     ]
    },
    {
     "ename": "KeyboardInterrupt",
     "evalue": "",
     "output_type": "error",
     "traceback": [
      "\u001b[1;31m---------------------------------------------------------------------------\u001b[0m",
      "\u001b[1;31mKeyboardInterrupt\u001b[0m                         Traceback (most recent call last)",
      "File \u001b[1;32m~\\anaconda3\\lib\\site-packages\\matplotlib\\pyplot.py:120\u001b[0m, in \u001b[0;36m_draw_all_if_interactive\u001b[1;34m()\u001b[0m\n\u001b[0;32m    118\u001b[0m \u001b[38;5;28;01mdef\u001b[39;00m \u001b[38;5;21m_draw_all_if_interactive\u001b[39m():\n\u001b[0;32m    119\u001b[0m     \u001b[38;5;28;01mif\u001b[39;00m matplotlib\u001b[38;5;241m.\u001b[39mis_interactive():\n\u001b[1;32m--> 120\u001b[0m         \u001b[43mdraw_all\u001b[49m\u001b[43m(\u001b[49m\u001b[43m)\u001b[49m\n",
      "File \u001b[1;32m~\\anaconda3\\lib\\site-packages\\matplotlib\\_pylab_helpers.py:132\u001b[0m, in \u001b[0;36mGcf.draw_all\u001b[1;34m(cls, force)\u001b[0m\n\u001b[0;32m    130\u001b[0m \u001b[38;5;28;01mfor\u001b[39;00m manager \u001b[38;5;129;01min\u001b[39;00m \u001b[38;5;28mcls\u001b[39m\u001b[38;5;241m.\u001b[39mget_all_fig_managers():\n\u001b[0;32m    131\u001b[0m     \u001b[38;5;28;01mif\u001b[39;00m force \u001b[38;5;129;01mor\u001b[39;00m manager\u001b[38;5;241m.\u001b[39mcanvas\u001b[38;5;241m.\u001b[39mfigure\u001b[38;5;241m.\u001b[39mstale:\n\u001b[1;32m--> 132\u001b[0m         \u001b[43mmanager\u001b[49m\u001b[38;5;241;43m.\u001b[39;49m\u001b[43mcanvas\u001b[49m\u001b[38;5;241;43m.\u001b[39;49m\u001b[43mdraw_idle\u001b[49m\u001b[43m(\u001b[49m\u001b[43m)\u001b[49m\n",
      "File \u001b[1;32m~\\anaconda3\\lib\\site-packages\\matplotlib\\backend_bases.py:2078\u001b[0m, in \u001b[0;36mFigureCanvasBase.draw_idle\u001b[1;34m(self, *args, **kwargs)\u001b[0m\n\u001b[0;32m   2076\u001b[0m \u001b[38;5;28;01mif\u001b[39;00m \u001b[38;5;129;01mnot\u001b[39;00m \u001b[38;5;28mself\u001b[39m\u001b[38;5;241m.\u001b[39m_is_idle_drawing:\n\u001b[0;32m   2077\u001b[0m     \u001b[38;5;28;01mwith\u001b[39;00m \u001b[38;5;28mself\u001b[39m\u001b[38;5;241m.\u001b[39m_idle_draw_cntx():\n\u001b[1;32m-> 2078\u001b[0m         \u001b[38;5;28mself\u001b[39m\u001b[38;5;241m.\u001b[39mdraw(\u001b[38;5;241m*\u001b[39margs, \u001b[38;5;241m*\u001b[39m\u001b[38;5;241m*\u001b[39mkwargs)\n",
      "File \u001b[1;32m~\\anaconda3\\lib\\site-packages\\matplotlib\\backends\\backend_agg.py:400\u001b[0m, in \u001b[0;36mFigureCanvasAgg.draw\u001b[1;34m(self)\u001b[0m\n\u001b[0;32m    396\u001b[0m \u001b[38;5;66;03m# Acquire a lock on the shared font cache.\u001b[39;00m\n\u001b[0;32m    397\u001b[0m \u001b[38;5;28;01mwith\u001b[39;00m RendererAgg\u001b[38;5;241m.\u001b[39mlock, \\\n\u001b[0;32m    398\u001b[0m      (\u001b[38;5;28mself\u001b[39m\u001b[38;5;241m.\u001b[39mtoolbar\u001b[38;5;241m.\u001b[39m_wait_cursor_for_draw_cm() \u001b[38;5;28;01mif\u001b[39;00m \u001b[38;5;28mself\u001b[39m\u001b[38;5;241m.\u001b[39mtoolbar\n\u001b[0;32m    399\u001b[0m       \u001b[38;5;28;01melse\u001b[39;00m nullcontext()):\n\u001b[1;32m--> 400\u001b[0m     \u001b[38;5;28;43mself\u001b[39;49m\u001b[38;5;241;43m.\u001b[39;49m\u001b[43mfigure\u001b[49m\u001b[38;5;241;43m.\u001b[39;49m\u001b[43mdraw\u001b[49m\u001b[43m(\u001b[49m\u001b[38;5;28;43mself\u001b[39;49m\u001b[38;5;241;43m.\u001b[39;49m\u001b[43mrenderer\u001b[49m\u001b[43m)\u001b[49m\n\u001b[0;32m    401\u001b[0m     \u001b[38;5;66;03m# A GUI class may be need to update a window using this draw, so\u001b[39;00m\n\u001b[0;32m    402\u001b[0m     \u001b[38;5;66;03m# don't forget to call the superclass.\u001b[39;00m\n\u001b[0;32m    403\u001b[0m     \u001b[38;5;28msuper\u001b[39m()\u001b[38;5;241m.\u001b[39mdraw()\n",
      "File \u001b[1;32m~\\anaconda3\\lib\\site-packages\\matplotlib\\artist.py:95\u001b[0m, in \u001b[0;36m_finalize_rasterization.<locals>.draw_wrapper\u001b[1;34m(artist, renderer, *args, **kwargs)\u001b[0m\n\u001b[0;32m     93\u001b[0m \u001b[38;5;129m@wraps\u001b[39m(draw)\n\u001b[0;32m     94\u001b[0m \u001b[38;5;28;01mdef\u001b[39;00m \u001b[38;5;21mdraw_wrapper\u001b[39m(artist, renderer, \u001b[38;5;241m*\u001b[39margs, \u001b[38;5;241m*\u001b[39m\u001b[38;5;241m*\u001b[39mkwargs):\n\u001b[1;32m---> 95\u001b[0m     result \u001b[38;5;241m=\u001b[39m draw(artist, renderer, \u001b[38;5;241m*\u001b[39margs, \u001b[38;5;241m*\u001b[39m\u001b[38;5;241m*\u001b[39mkwargs)\n\u001b[0;32m     96\u001b[0m     \u001b[38;5;28;01mif\u001b[39;00m renderer\u001b[38;5;241m.\u001b[39m_rasterizing:\n\u001b[0;32m     97\u001b[0m         renderer\u001b[38;5;241m.\u001b[39mstop_rasterizing()\n",
      "File \u001b[1;32m~\\anaconda3\\lib\\site-packages\\matplotlib\\artist.py:72\u001b[0m, in \u001b[0;36mallow_rasterization.<locals>.draw_wrapper\u001b[1;34m(artist, renderer)\u001b[0m\n\u001b[0;32m     69\u001b[0m     \u001b[38;5;28;01mif\u001b[39;00m artist\u001b[38;5;241m.\u001b[39mget_agg_filter() \u001b[38;5;129;01mis\u001b[39;00m \u001b[38;5;129;01mnot\u001b[39;00m \u001b[38;5;28;01mNone\u001b[39;00m:\n\u001b[0;32m     70\u001b[0m         renderer\u001b[38;5;241m.\u001b[39mstart_filter()\n\u001b[1;32m---> 72\u001b[0m     \u001b[38;5;28;01mreturn\u001b[39;00m \u001b[43mdraw\u001b[49m\u001b[43m(\u001b[49m\u001b[43martist\u001b[49m\u001b[43m,\u001b[49m\u001b[43m \u001b[49m\u001b[43mrenderer\u001b[49m\u001b[43m)\u001b[49m\n\u001b[0;32m     73\u001b[0m \u001b[38;5;28;01mfinally\u001b[39;00m:\n\u001b[0;32m     74\u001b[0m     \u001b[38;5;28;01mif\u001b[39;00m artist\u001b[38;5;241m.\u001b[39mget_agg_filter() \u001b[38;5;129;01mis\u001b[39;00m \u001b[38;5;129;01mnot\u001b[39;00m \u001b[38;5;28;01mNone\u001b[39;00m:\n",
      "File \u001b[1;32m~\\anaconda3\\lib\\site-packages\\matplotlib\\figure.py:3125\u001b[0m, in \u001b[0;36mFigure.draw\u001b[1;34m(self, renderer)\u001b[0m\n\u001b[0;32m   3122\u001b[0m         \u001b[38;5;66;03m# ValueError can occur when resizing a window.\u001b[39;00m\n\u001b[0;32m   3124\u001b[0m \u001b[38;5;28mself\u001b[39m\u001b[38;5;241m.\u001b[39mpatch\u001b[38;5;241m.\u001b[39mdraw(renderer)\n\u001b[1;32m-> 3125\u001b[0m \u001b[43mmimage\u001b[49m\u001b[38;5;241;43m.\u001b[39;49m\u001b[43m_draw_list_compositing_images\u001b[49m\u001b[43m(\u001b[49m\n\u001b[0;32m   3126\u001b[0m \u001b[43m    \u001b[49m\u001b[43mrenderer\u001b[49m\u001b[43m,\u001b[49m\u001b[43m \u001b[49m\u001b[38;5;28;43mself\u001b[39;49m\u001b[43m,\u001b[49m\u001b[43m \u001b[49m\u001b[43martists\u001b[49m\u001b[43m,\u001b[49m\u001b[43m \u001b[49m\u001b[38;5;28;43mself\u001b[39;49m\u001b[38;5;241;43m.\u001b[39;49m\u001b[43msuppressComposite\u001b[49m\u001b[43m)\u001b[49m\n\u001b[0;32m   3128\u001b[0m \u001b[38;5;28;01mfor\u001b[39;00m sfig \u001b[38;5;129;01min\u001b[39;00m \u001b[38;5;28mself\u001b[39m\u001b[38;5;241m.\u001b[39msubfigs:\n\u001b[0;32m   3129\u001b[0m     sfig\u001b[38;5;241m.\u001b[39mdraw(renderer)\n",
      "File \u001b[1;32m~\\anaconda3\\lib\\site-packages\\matplotlib\\image.py:131\u001b[0m, in \u001b[0;36m_draw_list_compositing_images\u001b[1;34m(renderer, parent, artists, suppress_composite)\u001b[0m\n\u001b[0;32m    129\u001b[0m \u001b[38;5;28;01mif\u001b[39;00m not_composite \u001b[38;5;129;01mor\u001b[39;00m \u001b[38;5;129;01mnot\u001b[39;00m has_images:\n\u001b[0;32m    130\u001b[0m     \u001b[38;5;28;01mfor\u001b[39;00m a \u001b[38;5;129;01min\u001b[39;00m artists:\n\u001b[1;32m--> 131\u001b[0m         \u001b[43ma\u001b[49m\u001b[38;5;241;43m.\u001b[39;49m\u001b[43mdraw\u001b[49m\u001b[43m(\u001b[49m\u001b[43mrenderer\u001b[49m\u001b[43m)\u001b[49m\n\u001b[0;32m    132\u001b[0m \u001b[38;5;28;01melse\u001b[39;00m:\n\u001b[0;32m    133\u001b[0m     \u001b[38;5;66;03m# Composite any adjacent images together\u001b[39;00m\n\u001b[0;32m    134\u001b[0m     image_group \u001b[38;5;241m=\u001b[39m []\n",
      "File \u001b[1;32m~\\anaconda3\\lib\\site-packages\\matplotlib\\artist.py:72\u001b[0m, in \u001b[0;36mallow_rasterization.<locals>.draw_wrapper\u001b[1;34m(artist, renderer)\u001b[0m\n\u001b[0;32m     69\u001b[0m     \u001b[38;5;28;01mif\u001b[39;00m artist\u001b[38;5;241m.\u001b[39mget_agg_filter() \u001b[38;5;129;01mis\u001b[39;00m \u001b[38;5;129;01mnot\u001b[39;00m \u001b[38;5;28;01mNone\u001b[39;00m:\n\u001b[0;32m     70\u001b[0m         renderer\u001b[38;5;241m.\u001b[39mstart_filter()\n\u001b[1;32m---> 72\u001b[0m     \u001b[38;5;28;01mreturn\u001b[39;00m \u001b[43mdraw\u001b[49m\u001b[43m(\u001b[49m\u001b[43martist\u001b[49m\u001b[43m,\u001b[49m\u001b[43m \u001b[49m\u001b[43mrenderer\u001b[49m\u001b[43m)\u001b[49m\n\u001b[0;32m     73\u001b[0m \u001b[38;5;28;01mfinally\u001b[39;00m:\n\u001b[0;32m     74\u001b[0m     \u001b[38;5;28;01mif\u001b[39;00m artist\u001b[38;5;241m.\u001b[39mget_agg_filter() \u001b[38;5;129;01mis\u001b[39;00m \u001b[38;5;129;01mnot\u001b[39;00m \u001b[38;5;28;01mNone\u001b[39;00m:\n",
      "File \u001b[1;32m~\\anaconda3\\lib\\site-packages\\matplotlib\\axes\\_base.py:3066\u001b[0m, in \u001b[0;36m_AxesBase.draw\u001b[1;34m(self, renderer)\u001b[0m\n\u001b[0;32m   3063\u001b[0m \u001b[38;5;28;01mif\u001b[39;00m artists_rasterized:\n\u001b[0;32m   3064\u001b[0m     _draw_rasterized(\u001b[38;5;28mself\u001b[39m\u001b[38;5;241m.\u001b[39mfigure, artists_rasterized, renderer)\n\u001b[1;32m-> 3066\u001b[0m \u001b[43mmimage\u001b[49m\u001b[38;5;241;43m.\u001b[39;49m\u001b[43m_draw_list_compositing_images\u001b[49m\u001b[43m(\u001b[49m\n\u001b[0;32m   3067\u001b[0m \u001b[43m    \u001b[49m\u001b[43mrenderer\u001b[49m\u001b[43m,\u001b[49m\u001b[43m \u001b[49m\u001b[38;5;28;43mself\u001b[39;49m\u001b[43m,\u001b[49m\u001b[43m \u001b[49m\u001b[43martists\u001b[49m\u001b[43m,\u001b[49m\u001b[43m \u001b[49m\u001b[38;5;28;43mself\u001b[39;49m\u001b[38;5;241;43m.\u001b[39;49m\u001b[43mfigure\u001b[49m\u001b[38;5;241;43m.\u001b[39;49m\u001b[43msuppressComposite\u001b[49m\u001b[43m)\u001b[49m\n\u001b[0;32m   3069\u001b[0m renderer\u001b[38;5;241m.\u001b[39mclose_group(\u001b[38;5;124m'\u001b[39m\u001b[38;5;124maxes\u001b[39m\u001b[38;5;124m'\u001b[39m)\n\u001b[0;32m   3070\u001b[0m \u001b[38;5;28mself\u001b[39m\u001b[38;5;241m.\u001b[39mstale \u001b[38;5;241m=\u001b[39m \u001b[38;5;28;01mFalse\u001b[39;00m\n",
      "File \u001b[1;32m~\\anaconda3\\lib\\site-packages\\matplotlib\\image.py:131\u001b[0m, in \u001b[0;36m_draw_list_compositing_images\u001b[1;34m(renderer, parent, artists, suppress_composite)\u001b[0m\n\u001b[0;32m    129\u001b[0m \u001b[38;5;28;01mif\u001b[39;00m not_composite \u001b[38;5;129;01mor\u001b[39;00m \u001b[38;5;129;01mnot\u001b[39;00m has_images:\n\u001b[0;32m    130\u001b[0m     \u001b[38;5;28;01mfor\u001b[39;00m a \u001b[38;5;129;01min\u001b[39;00m artists:\n\u001b[1;32m--> 131\u001b[0m         \u001b[43ma\u001b[49m\u001b[38;5;241;43m.\u001b[39;49m\u001b[43mdraw\u001b[49m\u001b[43m(\u001b[49m\u001b[43mrenderer\u001b[49m\u001b[43m)\u001b[49m\n\u001b[0;32m    132\u001b[0m \u001b[38;5;28;01melse\u001b[39;00m:\n\u001b[0;32m    133\u001b[0m     \u001b[38;5;66;03m# Composite any adjacent images together\u001b[39;00m\n\u001b[0;32m    134\u001b[0m     image_group \u001b[38;5;241m=\u001b[39m []\n",
      "File \u001b[1;32m~\\anaconda3\\lib\\site-packages\\matplotlib\\artist.py:72\u001b[0m, in \u001b[0;36mallow_rasterization.<locals>.draw_wrapper\u001b[1;34m(artist, renderer)\u001b[0m\n\u001b[0;32m     69\u001b[0m     \u001b[38;5;28;01mif\u001b[39;00m artist\u001b[38;5;241m.\u001b[39mget_agg_filter() \u001b[38;5;129;01mis\u001b[39;00m \u001b[38;5;129;01mnot\u001b[39;00m \u001b[38;5;28;01mNone\u001b[39;00m:\n\u001b[0;32m     70\u001b[0m         renderer\u001b[38;5;241m.\u001b[39mstart_filter()\n\u001b[1;32m---> 72\u001b[0m     \u001b[38;5;28;01mreturn\u001b[39;00m \u001b[43mdraw\u001b[49m\u001b[43m(\u001b[49m\u001b[43martist\u001b[49m\u001b[43m,\u001b[49m\u001b[43m \u001b[49m\u001b[43mrenderer\u001b[49m\u001b[43m)\u001b[49m\n\u001b[0;32m     73\u001b[0m \u001b[38;5;28;01mfinally\u001b[39;00m:\n\u001b[0;32m     74\u001b[0m     \u001b[38;5;28;01mif\u001b[39;00m artist\u001b[38;5;241m.\u001b[39mget_agg_filter() \u001b[38;5;129;01mis\u001b[39;00m \u001b[38;5;129;01mnot\u001b[39;00m \u001b[38;5;28;01mNone\u001b[39;00m:\n",
      "File \u001b[1;32m~\\anaconda3\\lib\\site-packages\\matplotlib\\axis.py:1372\u001b[0m, in \u001b[0;36mAxis.draw\u001b[1;34m(self, renderer, *args, **kwargs)\u001b[0m\n\u001b[0;32m   1369\u001b[0m renderer\u001b[38;5;241m.\u001b[39mopen_group(\u001b[38;5;18m__name__\u001b[39m, gid\u001b[38;5;241m=\u001b[39m\u001b[38;5;28mself\u001b[39m\u001b[38;5;241m.\u001b[39mget_gid())\n\u001b[0;32m   1371\u001b[0m ticks_to_draw \u001b[38;5;241m=\u001b[39m \u001b[38;5;28mself\u001b[39m\u001b[38;5;241m.\u001b[39m_update_ticks()\n\u001b[1;32m-> 1372\u001b[0m tlb1, tlb2 \u001b[38;5;241m=\u001b[39m \u001b[38;5;28;43mself\u001b[39;49m\u001b[38;5;241;43m.\u001b[39;49m\u001b[43m_get_ticklabel_bboxes\u001b[49m\u001b[43m(\u001b[49m\u001b[43mticks_to_draw\u001b[49m\u001b[43m,\u001b[49m\u001b[43m \u001b[49m\u001b[43mrenderer\u001b[49m\u001b[43m)\u001b[49m\n\u001b[0;32m   1374\u001b[0m \u001b[38;5;28;01mfor\u001b[39;00m tick \u001b[38;5;129;01min\u001b[39;00m ticks_to_draw:\n\u001b[0;32m   1375\u001b[0m     tick\u001b[38;5;241m.\u001b[39mdraw(renderer)\n",
      "File \u001b[1;32m~\\anaconda3\\lib\\site-packages\\matplotlib\\axis.py:1299\u001b[0m, in \u001b[0;36mAxis._get_ticklabel_bboxes\u001b[1;34m(self, ticks, renderer)\u001b[0m\n\u001b[0;32m   1297\u001b[0m \u001b[38;5;28;01mif\u001b[39;00m renderer \u001b[38;5;129;01mis\u001b[39;00m \u001b[38;5;28;01mNone\u001b[39;00m:\n\u001b[0;32m   1298\u001b[0m     renderer \u001b[38;5;241m=\u001b[39m \u001b[38;5;28mself\u001b[39m\u001b[38;5;241m.\u001b[39mfigure\u001b[38;5;241m.\u001b[39m_get_renderer()\n\u001b[1;32m-> 1299\u001b[0m \u001b[38;5;28;01mreturn\u001b[39;00m ([tick\u001b[38;5;241m.\u001b[39mlabel1\u001b[38;5;241m.\u001b[39mget_window_extent(renderer)\n\u001b[0;32m   1300\u001b[0m          \u001b[38;5;28;01mfor\u001b[39;00m tick \u001b[38;5;129;01min\u001b[39;00m ticks \u001b[38;5;28;01mif\u001b[39;00m tick\u001b[38;5;241m.\u001b[39mlabel1\u001b[38;5;241m.\u001b[39mget_visible()],\n\u001b[0;32m   1301\u001b[0m         [tick\u001b[38;5;241m.\u001b[39mlabel2\u001b[38;5;241m.\u001b[39mget_window_extent(renderer)\n\u001b[0;32m   1302\u001b[0m          \u001b[38;5;28;01mfor\u001b[39;00m tick \u001b[38;5;129;01min\u001b[39;00m ticks \u001b[38;5;28;01mif\u001b[39;00m tick\u001b[38;5;241m.\u001b[39mlabel2\u001b[38;5;241m.\u001b[39mget_visible()])\n",
      "File \u001b[1;32m~\\anaconda3\\lib\\site-packages\\matplotlib\\axis.py:1299\u001b[0m, in \u001b[0;36m<listcomp>\u001b[1;34m(.0)\u001b[0m\n\u001b[0;32m   1297\u001b[0m \u001b[38;5;28;01mif\u001b[39;00m renderer \u001b[38;5;129;01mis\u001b[39;00m \u001b[38;5;28;01mNone\u001b[39;00m:\n\u001b[0;32m   1298\u001b[0m     renderer \u001b[38;5;241m=\u001b[39m \u001b[38;5;28mself\u001b[39m\u001b[38;5;241m.\u001b[39mfigure\u001b[38;5;241m.\u001b[39m_get_renderer()\n\u001b[1;32m-> 1299\u001b[0m \u001b[38;5;28;01mreturn\u001b[39;00m ([\u001b[43mtick\u001b[49m\u001b[38;5;241;43m.\u001b[39;49m\u001b[43mlabel1\u001b[49m\u001b[38;5;241;43m.\u001b[39;49m\u001b[43mget_window_extent\u001b[49m\u001b[43m(\u001b[49m\u001b[43mrenderer\u001b[49m\u001b[43m)\u001b[49m\n\u001b[0;32m   1300\u001b[0m          \u001b[38;5;28;01mfor\u001b[39;00m tick \u001b[38;5;129;01min\u001b[39;00m ticks \u001b[38;5;28;01mif\u001b[39;00m tick\u001b[38;5;241m.\u001b[39mlabel1\u001b[38;5;241m.\u001b[39mget_visible()],\n\u001b[0;32m   1301\u001b[0m         [tick\u001b[38;5;241m.\u001b[39mlabel2\u001b[38;5;241m.\u001b[39mget_window_extent(renderer)\n\u001b[0;32m   1302\u001b[0m          \u001b[38;5;28;01mfor\u001b[39;00m tick \u001b[38;5;129;01min\u001b[39;00m ticks \u001b[38;5;28;01mif\u001b[39;00m tick\u001b[38;5;241m.\u001b[39mlabel2\u001b[38;5;241m.\u001b[39mget_visible()])\n",
      "File \u001b[1;32m~\\anaconda3\\lib\\site-packages\\matplotlib\\text.py:959\u001b[0m, in \u001b[0;36mText.get_window_extent\u001b[1;34m(self, renderer, dpi)\u001b[0m\n\u001b[0;32m    954\u001b[0m     \u001b[38;5;28;01mraise\u001b[39;00m \u001b[38;5;167;01mRuntimeError\u001b[39;00m(\n\u001b[0;32m    955\u001b[0m         \u001b[38;5;124m\"\u001b[39m\u001b[38;5;124mCannot get window extent of text w/o renderer. You likely \u001b[39m\u001b[38;5;124m\"\u001b[39m\n\u001b[0;32m    956\u001b[0m         \u001b[38;5;124m\"\u001b[39m\u001b[38;5;124mwant to call \u001b[39m\u001b[38;5;124m'\u001b[39m\u001b[38;5;124mfigure.draw_without_rendering()\u001b[39m\u001b[38;5;124m'\u001b[39m\u001b[38;5;124m first.\u001b[39m\u001b[38;5;124m\"\u001b[39m)\n\u001b[0;32m    958\u001b[0m \u001b[38;5;28;01mwith\u001b[39;00m cbook\u001b[38;5;241m.\u001b[39m_setattr_cm(\u001b[38;5;28mself\u001b[39m\u001b[38;5;241m.\u001b[39mfigure, dpi\u001b[38;5;241m=\u001b[39mdpi):\n\u001b[1;32m--> 959\u001b[0m     bbox, info, descent \u001b[38;5;241m=\u001b[39m \u001b[38;5;28;43mself\u001b[39;49m\u001b[38;5;241;43m.\u001b[39;49m\u001b[43m_get_layout\u001b[49m\u001b[43m(\u001b[49m\u001b[38;5;28;43mself\u001b[39;49m\u001b[38;5;241;43m.\u001b[39;49m\u001b[43m_renderer\u001b[49m\u001b[43m)\u001b[49m\n\u001b[0;32m    960\u001b[0m     x, y \u001b[38;5;241m=\u001b[39m \u001b[38;5;28mself\u001b[39m\u001b[38;5;241m.\u001b[39mget_unitless_position()\n\u001b[0;32m    961\u001b[0m     x, y \u001b[38;5;241m=\u001b[39m \u001b[38;5;28mself\u001b[39m\u001b[38;5;241m.\u001b[39mget_transform()\u001b[38;5;241m.\u001b[39mtransform((x, y))\n",
      "File \u001b[1;32m~\\anaconda3\\lib\\site-packages\\matplotlib\\text.py:386\u001b[0m, in \u001b[0;36mText._get_layout\u001b[1;34m(self, renderer)\u001b[0m\n\u001b[0;32m    384\u001b[0m clean_line, ismath \u001b[38;5;241m=\u001b[39m \u001b[38;5;28mself\u001b[39m\u001b[38;5;241m.\u001b[39m_preprocess_math(line)\n\u001b[0;32m    385\u001b[0m \u001b[38;5;28;01mif\u001b[39;00m clean_line:\n\u001b[1;32m--> 386\u001b[0m     w, h, d \u001b[38;5;241m=\u001b[39m \u001b[43m_get_text_metrics_with_cache\u001b[49m\u001b[43m(\u001b[49m\n\u001b[0;32m    387\u001b[0m \u001b[43m        \u001b[49m\u001b[43mrenderer\u001b[49m\u001b[43m,\u001b[49m\u001b[43m \u001b[49m\u001b[43mclean_line\u001b[49m\u001b[43m,\u001b[49m\u001b[43m \u001b[49m\u001b[38;5;28;43mself\u001b[39;49m\u001b[38;5;241;43m.\u001b[39;49m\u001b[43m_fontproperties\u001b[49m\u001b[43m,\u001b[49m\n\u001b[0;32m    388\u001b[0m \u001b[43m        \u001b[49m\u001b[43mismath\u001b[49m\u001b[38;5;241;43m=\u001b[39;49m\u001b[43mismath\u001b[49m\u001b[43m,\u001b[49m\u001b[43m \u001b[49m\u001b[43mdpi\u001b[49m\u001b[38;5;241;43m=\u001b[39;49m\u001b[38;5;28;43mself\u001b[39;49m\u001b[38;5;241;43m.\u001b[39;49m\u001b[43mfigure\u001b[49m\u001b[38;5;241;43m.\u001b[39;49m\u001b[43mdpi\u001b[49m\u001b[43m)\u001b[49m\n\u001b[0;32m    389\u001b[0m \u001b[38;5;28;01melse\u001b[39;00m:\n\u001b[0;32m    390\u001b[0m     w \u001b[38;5;241m=\u001b[39m h \u001b[38;5;241m=\u001b[39m d \u001b[38;5;241m=\u001b[39m \u001b[38;5;241m0\u001b[39m\n",
      "File \u001b[1;32m~\\anaconda3\\lib\\site-packages\\matplotlib\\text.py:97\u001b[0m, in \u001b[0;36m_get_text_metrics_with_cache\u001b[1;34m(renderer, text, fontprop, ismath, dpi)\u001b[0m\n\u001b[0;32m     94\u001b[0m \u001b[38;5;124;03m\"\"\"Call ``renderer.get_text_width_height_descent``, caching the results.\"\"\"\u001b[39;00m\n\u001b[0;32m     95\u001b[0m \u001b[38;5;66;03m# Cached based on a copy of fontprop so that later in-place mutations of\u001b[39;00m\n\u001b[0;32m     96\u001b[0m \u001b[38;5;66;03m# the passed-in argument do not mess up the cache.\u001b[39;00m\n\u001b[1;32m---> 97\u001b[0m \u001b[38;5;28;01mreturn\u001b[39;00m \u001b[43m_get_text_metrics_with_cache_impl\u001b[49m\u001b[43m(\u001b[49m\n\u001b[0;32m     98\u001b[0m \u001b[43m    \u001b[49m\u001b[43mweakref\u001b[49m\u001b[38;5;241;43m.\u001b[39;49m\u001b[43mref\u001b[49m\u001b[43m(\u001b[49m\u001b[43mrenderer\u001b[49m\u001b[43m)\u001b[49m\u001b[43m,\u001b[49m\u001b[43m \u001b[49m\u001b[43mtext\u001b[49m\u001b[43m,\u001b[49m\u001b[43m \u001b[49m\u001b[43mfontprop\u001b[49m\u001b[38;5;241;43m.\u001b[39;49m\u001b[43mcopy\u001b[49m\u001b[43m(\u001b[49m\u001b[43m)\u001b[49m\u001b[43m,\u001b[49m\u001b[43m \u001b[49m\u001b[43mismath\u001b[49m\u001b[43m,\u001b[49m\u001b[43m \u001b[49m\u001b[43mdpi\u001b[49m\u001b[43m)\u001b[49m\n",
      "File \u001b[1;32m~\\anaconda3\\lib\\site-packages\\matplotlib\\text.py:105\u001b[0m, in \u001b[0;36m_get_text_metrics_with_cache_impl\u001b[1;34m(renderer_ref, text, fontprop, ismath, dpi)\u001b[0m\n\u001b[0;32m    101\u001b[0m \u001b[38;5;129m@functools\u001b[39m\u001b[38;5;241m.\u001b[39mlru_cache(\u001b[38;5;241m4096\u001b[39m)\n\u001b[0;32m    102\u001b[0m \u001b[38;5;28;01mdef\u001b[39;00m \u001b[38;5;21m_get_text_metrics_with_cache_impl\u001b[39m(\n\u001b[0;32m    103\u001b[0m         renderer_ref, text, fontprop, ismath, dpi):\n\u001b[0;32m    104\u001b[0m     \u001b[38;5;66;03m# dpi is unused, but participates in cache invalidation (via the renderer).\u001b[39;00m\n\u001b[1;32m--> 105\u001b[0m     \u001b[38;5;28;01mreturn\u001b[39;00m \u001b[43mrenderer_ref\u001b[49m\u001b[43m(\u001b[49m\u001b[43m)\u001b[49m\u001b[38;5;241;43m.\u001b[39;49m\u001b[43mget_text_width_height_descent\u001b[49m\u001b[43m(\u001b[49m\u001b[43mtext\u001b[49m\u001b[43m,\u001b[49m\u001b[43m \u001b[49m\u001b[43mfontprop\u001b[49m\u001b[43m,\u001b[49m\u001b[43m \u001b[49m\u001b[43mismath\u001b[49m\u001b[43m)\u001b[49m\n",
      "File \u001b[1;32m~\\anaconda3\\lib\\site-packages\\matplotlib\\backends\\backend_agg.py:234\u001b[0m, in \u001b[0;36mRendererAgg.get_text_width_height_descent\u001b[1;34m(self, s, prop, ismath)\u001b[0m\n\u001b[0;32m    231\u001b[0m     \u001b[38;5;28;01mreturn\u001b[39;00m width, height, descent\n\u001b[0;32m    233\u001b[0m font \u001b[38;5;241m=\u001b[39m \u001b[38;5;28mself\u001b[39m\u001b[38;5;241m.\u001b[39m_prepare_font(prop)\n\u001b[1;32m--> 234\u001b[0m \u001b[43mfont\u001b[49m\u001b[38;5;241;43m.\u001b[39;49m\u001b[43mset_text\u001b[49m\u001b[43m(\u001b[49m\u001b[43ms\u001b[49m\u001b[43m,\u001b[49m\u001b[43m \u001b[49m\u001b[38;5;241;43m0.0\u001b[39;49m\u001b[43m,\u001b[49m\u001b[43m \u001b[49m\u001b[43mflags\u001b[49m\u001b[38;5;241;43m=\u001b[39;49m\u001b[43mget_hinting_flag\u001b[49m\u001b[43m(\u001b[49m\u001b[43m)\u001b[49m\u001b[43m)\u001b[49m\n\u001b[0;32m    235\u001b[0m w, h \u001b[38;5;241m=\u001b[39m font\u001b[38;5;241m.\u001b[39mget_width_height()  \u001b[38;5;66;03m# width and height of unrotated string\u001b[39;00m\n\u001b[0;32m    236\u001b[0m d \u001b[38;5;241m=\u001b[39m font\u001b[38;5;241m.\u001b[39mget_descent()\n",
      "\u001b[1;31mKeyboardInterrupt\u001b[0m: "
     ]
    },
    {
     "data": {
      "image/png": "[encoded data removed]",
      "text/plain": [
       "<Figure size 640x480 with 1 Axes>"
      ]
     },
     "metadata": {},
     "output_type": "display_data"
    }
   ],
   "source": [
    "sns.lineplot(x=\"timestamp\", y=\"reject_packs\", data=package_data)"
   ]
  },
  {
   "cell_type": "code",
   "execution_count": 8,
   "id": "6bdd96b8-3aa5-4b58-a55f-a26bc7bfb94c",
   "metadata": {},
   "outputs": [],
   "source": [
    "package_data1 = package_data.drop(columns=['machine_identifier', 'good_packs'])"
   ]
  },
  {
   "cell_type": "code",
   "execution_count": 9,
   "id": "7e3deb28-a87d-4b06-8e29-5dd1eff253d1",
   "metadata": {},
   "outputs": [],
   "source": [
    "package_data1 = package_data1.dropna()"
   ]
  },
  {
   "cell_type": "code",
   "execution_count": 10,
   "id": "0ca9b65c-2e0f-48ae-ba90-1f52950f8910",
   "metadata": {},
   "outputs": [
    {
     "data": {
      "text/plain": [
       "2022-05-16T14:44:54.427Z    2\n",
       "2022-07-28T02:10:33.654Z    2\n",
       "2022-05-10T08:55:29.397Z    2\n",
       "2022-05-11T14:39:16.361Z    2\n",
       "2022-05-31T14:49:32.279Z    2\n",
       "                           ..\n",
       "2022-06-28T16:39:09.858Z    1\n",
       "2022-06-28T21:24:16.467Z    1\n",
       "2022-06-28T14:09:44.908Z    1\n",
       "2022-06-28T14:10:17.573Z    1\n",
       "2022-07-15T00:49:27.268Z    1\n",
       "Name: timestamp, Length: 270136, dtype: int64"
      ]
     },
     "execution_count": 10,
     "metadata": {},
     "output_type": "execute_result"
    }
   ],
   "source": [
    "package_data1['timestamp'].value_counts()"
   ]
  },
  {
   "cell_type": "code",
   "execution_count": 11,
   "id": "b68da7d4-c578-4f60-96cb-dded509c82e9",
   "metadata": {},
   "outputs": [],
   "source": [
    "df3 = package_data1.merge(recipe_data_vegan_parmesan, on='timestamp')"
   ]
  },
  {
   "cell_type": "code",
   "execution_count": 12,
   "id": "97cdd71e-b267-436e-9664-f4afd5878bbf",
   "metadata": {},
   "outputs": [
    {
     "data": {
      "text/html": [
       "<div>\n",
       "<style scoped>\n",
       "    .dataframe tbody tr th:only-of-type {\n",
       "        vertical-align: middle;\n",
       "    }\n",
       "\n",
       "    .dataframe tbody tr th {\n",
       "        vertical-align: top;\n",
       "    }\n",
       "\n",
       "    .dataframe thead th {\n",
       "        text-align: right;\n",
       "    }\n",
       "</style>\n",
       "<table border=\"1\" class=\"dataframe\">\n",
       "  <thead>\n",
       "    <tr style=\"text-align: right;\">\n",
       "      <th></th>\n",
       "      <th>timestamp</th>\n",
       "      <th>reject_packs</th>\n",
       "      <th>machine_identifier</th>\n",
       "      <th>recipe</th>\n",
       "    </tr>\n",
       "  </thead>\n",
       "  <tbody>\n",
       "  </tbody>\n",
       "</table>\n",
       "</div>"
      ],
      "text/plain": [
       "Empty DataFrame\n",
       "Columns: [timestamp, reject_packs, machine_identifier, recipe]\n",
       "Index: []"
      ]
     },
     "execution_count": 12,
     "metadata": {},
     "output_type": "execute_result"
    }
   ],
   "source": [
    "df3"
   ]
  },
  {
   "cell_type": "code",
   "execution_count": 13,
   "id": "41d4cb55-7613-4255-969e-6091809bacb6",
   "metadata": {},
   "outputs": [
    {
     "data": {
      "text/html": [
       "<div>\n",
       "<style scoped>\n",
       "    .dataframe tbody tr th:only-of-type {\n",
       "        vertical-align: middle;\n",
       "    }\n",
       "\n",
       "    .dataframe tbody tr th {\n",
       "        vertical-align: top;\n",
       "    }\n",
       "\n",
       "    .dataframe thead th {\n",
       "        text-align: right;\n",
       "    }\n",
       "</style>\n",
       "<table border=\"1\" class=\"dataframe\">\n",
       "  <thead>\n",
       "    <tr style=\"text-align: right;\">\n",
       "      <th></th>\n",
       "      <th>timestamp</th>\n",
       "      <th>reject_packs</th>\n",
       "    </tr>\n",
       "  </thead>\n",
       "  <tbody>\n",
       "    <tr>\n",
       "      <th>0</th>\n",
       "      <td>2022-05-04T13:05:49.295Z</td>\n",
       "      <td>1</td>\n",
       "    </tr>\n",
       "    <tr>\n",
       "      <th>1</th>\n",
       "      <td>2022-05-04T01:15:28.947Z</td>\n",
       "      <td>0</td>\n",
       "    </tr>\n",
       "    <tr>\n",
       "      <th>2</th>\n",
       "      <td>2022-05-04T06:13:54.767Z</td>\n",
       "      <td>4</td>\n",
       "    </tr>\n",
       "    <tr>\n",
       "      <th>3</th>\n",
       "      <td>2022-05-04T03:35:29.769Z</td>\n",
       "      <td>0</td>\n",
       "    </tr>\n",
       "    <tr>\n",
       "      <th>4</th>\n",
       "      <td>2022-05-04T03:53:27.950Z</td>\n",
       "      <td>0</td>\n",
       "    </tr>\n",
       "    <tr>\n",
       "      <th>...</th>\n",
       "      <td>...</td>\n",
       "      <td>...</td>\n",
       "    </tr>\n",
       "    <tr>\n",
       "      <th>270150</th>\n",
       "      <td>2022-07-14T22:11:53.793Z</td>\n",
       "      <td>0</td>\n",
       "    </tr>\n",
       "    <tr>\n",
       "      <th>270151</th>\n",
       "      <td>2022-07-14T23:02:16.448Z</td>\n",
       "      <td>1</td>\n",
       "    </tr>\n",
       "    <tr>\n",
       "      <th>270152</th>\n",
       "      <td>2022-07-15T01:08:52.321Z</td>\n",
       "      <td>0</td>\n",
       "    </tr>\n",
       "    <tr>\n",
       "      <th>270153</th>\n",
       "      <td>2022-07-14T22:10:55.457Z</td>\n",
       "      <td>0</td>\n",
       "    </tr>\n",
       "    <tr>\n",
       "      <th>270154</th>\n",
       "      <td>2022-07-15T00:49:27.268Z</td>\n",
       "      <td>0</td>\n",
       "    </tr>\n",
       "  </tbody>\n",
       "</table>\n",
       "<p>270155 rows × 2 columns</p>\n",
       "</div>"
      ],
      "text/plain": [
       "                       timestamp  reject_packs\n",
       "0       2022-05-04T13:05:49.295Z             1\n",
       "1       2022-05-04T01:15:28.947Z             0\n",
       "2       2022-05-04T06:13:54.767Z             4\n",
       "3       2022-05-04T03:35:29.769Z             0\n",
       "4       2022-05-04T03:53:27.950Z             0\n",
       "...                          ...           ...\n",
       "270150  2022-07-14T22:11:53.793Z             0\n",
       "270151  2022-07-14T23:02:16.448Z             1\n",
       "270152  2022-07-15T01:08:52.321Z             0\n",
       "270153  2022-07-14T22:10:55.457Z             0\n",
       "270154  2022-07-15T00:49:27.268Z             0\n",
       "\n",
       "[270155 rows x 2 columns]"
      ]
     },
     "execution_count": 13,
     "metadata": {},
     "output_type": "execute_result"
    }
   ],
   "source": [
    "package_data1"
   ]
  },
  {
   "cell_type": "code",
   "execution_count": 14,
   "id": "28082647-aadb-4de9-9b7e-5667297819b0",
   "metadata": {},
   "outputs": [
    {
     "data": {
      "text/html": [
       "<div>\n",
       "<style scoped>\n",
       "    .dataframe tbody tr th:only-of-type {\n",
       "        vertical-align: middle;\n",
       "    }\n",
       "\n",
       "    .dataframe tbody tr th {\n",
       "        vertical-align: top;\n",
       "    }\n",
       "\n",
       "    .dataframe thead th {\n",
       "        text-align: right;\n",
       "    }\n",
       "</style>\n",
       "<table border=\"1\" class=\"dataframe\">\n",
       "  <thead>\n",
       "    <tr style=\"text-align: right;\">\n",
       "      <th></th>\n",
       "      <th>machine_identifier</th>\n",
       "      <th>timestamp</th>\n",
       "      <th>recipe</th>\n",
       "    </tr>\n",
       "  </thead>\n",
       "  <tbody>\n",
       "    <tr>\n",
       "      <th>1</th>\n",
       "      <td>innovative_cheese_machine</td>\n",
       "      <td>2022-05-02T12:28:08.513+0000</td>\n",
       "      <td>vegan parmesan</td>\n",
       "    </tr>\n",
       "    <tr>\n",
       "      <th>7</th>\n",
       "      <td>innovative_cheese_machine</td>\n",
       "      <td>2022-05-27T09:00:49.677+0000</td>\n",
       "      <td>vegan parmesan</td>\n",
       "    </tr>\n",
       "    <tr>\n",
       "      <th>8</th>\n",
       "      <td>innovative_cheese_machine</td>\n",
       "      <td>2022-05-02T07:22:22.632+0000</td>\n",
       "      <td>vegan parmesan</td>\n",
       "    </tr>\n",
       "    <tr>\n",
       "      <th>9</th>\n",
       "      <td>innovative_cheese_machine</td>\n",
       "      <td>2022-05-27T12:04:25.245+0000</td>\n",
       "      <td>vegan parmesan</td>\n",
       "    </tr>\n",
       "    <tr>\n",
       "      <th>11</th>\n",
       "      <td>innovative_cheese_machine</td>\n",
       "      <td>2022-05-25T14:26:53.309+0000</td>\n",
       "      <td>vegan parmesan</td>\n",
       "    </tr>\n",
       "  </tbody>\n",
       "</table>\n",
       "</div>"
      ],
      "text/plain": [
       "           machine_identifier                     timestamp          recipe\n",
       "1   innovative_cheese_machine  2022-05-02T12:28:08.513+0000  vegan parmesan\n",
       "7   innovative_cheese_machine  2022-05-27T09:00:49.677+0000  vegan parmesan\n",
       "8   innovative_cheese_machine  2022-05-02T07:22:22.632+0000  vegan parmesan\n",
       "9   innovative_cheese_machine  2022-05-27T12:04:25.245+0000  vegan parmesan\n",
       "11  innovative_cheese_machine  2022-05-25T14:26:53.309+0000  vegan parmesan"
      ]
     },
     "execution_count": 14,
     "metadata": {},
     "output_type": "execute_result"
    }
   ],
   "source": [
    "recipe_data_vegan_parmesan.head()"
   ]
  },
  {
   "cell_type": "code",
   "execution_count": 15,
   "id": "1c25be2e-e74b-463b-afc6-2dea554e44d1",
   "metadata": {},
   "outputs": [
    {
     "data": {
      "text/plain": [
       "1    2022-05-02 12:28:08.513000+00:00\n",
       "7    2022-05-27 09:00:49.677000+00:00\n",
       "8    2022-05-02 07:22:22.632000+00:00\n",
       "9    2022-05-27 12:04:25.245000+00:00\n",
       "11   2022-05-25 14:26:53.309000+00:00\n",
       "13   2022-05-03 07:21:44.886000+00:00\n",
       "14   2022-05-25 15:26:56.395000+00:00\n",
       "15   2022-07-13 21:20:54.967000+00:00\n",
       "16   2022-05-27 11:36:19.240000+00:00\n",
       "18   2022-05-23 17:00:18.317000+00:00\n",
       "23   2022-05-02 04:26:37.727000+00:00\n",
       "24   2022-05-30 04:22:36.836000+00:00\n",
       "25   2022-05-30 09:34:31.216000+00:00\n",
       "28   2022-05-27 06:53:06.153000+00:00\n",
       "29   2022-05-23 14:21:58.214000+00:00\n",
       "31   2022-07-28 21:59:40.116000+00:00\n",
       "32   2022-05-25 15:49:28.431000+00:00\n",
       "34   2022-05-30 10:11:09.482000+00:00\n",
       "40   2022-05-25 12:01:21.255000+00:00\n",
       "41   2022-05-02 07:13:14.861000+00:00\n",
       "45   2022-05-30 08:28:53.303000+00:00\n",
       "46   2022-07-14 06:35:52.418000+00:00\n",
       "47   2022-05-12 00:47:26.239000+00:00\n",
       "51   2022-05-25 08:54:08.573000+00:00\n",
       "52   2022-05-06 16:51:30.723000+00:00\n",
       "54   2022-05-30 09:17:12.965000+00:00\n",
       "55   2022-05-02 04:26:54.623000+00:00\n",
       "56   2022-07-14 05:21:01.551000+00:00\n",
       "58   2022-07-22 12:25:54.015000+00:00\n",
       "59   2022-05-02 13:22:22.631000+00:00\n",
       "60   2022-05-27 07:24:23.930000+00:00\n",
       "61   2022-05-27 10:53:30.237000+00:00\n",
       "62   2022-05-09 06:53:54.860000+00:00\n",
       "63   2022-05-30 10:05:10.414000+00:00\n",
       "65   2022-05-02 05:18:23.930000+00:00\n",
       "68   2022-07-25 03:39:25.164000+00:00\n",
       "72   2022-06-16 21:19:45.540000+00:00\n",
       "75   2022-05-02 06:46:10.376000+00:00\n",
       "76   2022-07-14 05:44:06.358000+00:00\n",
       "77   2022-06-16 21:15:19.817000+00:00\n",
       "78   2022-07-15 04:13:29.524000+00:00\n",
       "79   2022-05-02 12:51:49.959000+00:00\n",
       "80   2022-05-25 13:49:29.262000+00:00\n",
       "88   2022-05-02 06:08:38.260000+00:00\n",
       "89   2022-05-27 12:37:17.207000+00:00\n",
       "Name: timestamp, dtype: datetime64[ns, UTC]"
      ]
     },
     "execution_count": 15,
     "metadata": {},
     "output_type": "execute_result"
    }
   ],
   "source": [
    "pd.to_datetime(recipe_data_vegan_parmesan[\"timestamp\"])"
   ]
  },
  {
   "cell_type": "code",
   "execution_count": 16,
   "id": "5858a1f8-1e7b-4976-88a6-c17b16dc05ef",
   "metadata": {},
   "outputs": [
    {
     "data": {
      "text/plain": [
       "0        2022-05-04 13:05:49.295000+00:00\n",
       "1        2022-05-04 01:15:28.947000+00:00\n",
       "2        2022-05-04 06:13:54.767000+00:00\n",
       "3        2022-05-04 03:35:29.769000+00:00\n",
       "4        2022-05-04 03:53:27.950000+00:00\n",
       "                       ...               \n",
       "270150   2022-07-14 22:11:53.793000+00:00\n",
       "270151   2022-07-14 23:02:16.448000+00:00\n",
       "270152   2022-07-15 01:08:52.321000+00:00\n",
       "270153   2022-07-14 22:10:55.457000+00:00\n",
       "270154   2022-07-15 00:49:27.268000+00:00\n",
       "Name: timestamp, Length: 270155, dtype: datetime64[ns, UTC]"
      ]
     },
     "execution_count": 16,
     "metadata": {},
     "output_type": "execute_result"
    }
   ],
   "source": [
    "pd.to_datetime(package_data1[\"timestamp\"])"
   ]
  },
  {
   "cell_type": "code",
   "execution_count": 17,
   "id": "b0be395b-d3e3-4287-805f-09a9a486cbf4",
   "metadata": {},
   "outputs": [],
   "source": [
    "df4 = pd.merge(package_data1, recipe_data_vegan_parmesan, on=[\"timestamp\"],how=\"outer\")"
   ]
  },
  {
   "cell_type": "code",
   "execution_count": 18,
   "id": "82f76fbb-b2ef-4a4a-9915-d2faa10e8a8e",
   "metadata": {},
   "outputs": [
    {
     "data": {
      "text/html": [
       "<div>\n",
       "<style scoped>\n",
       "    .dataframe tbody tr th:only-of-type {\n",
       "        vertical-align: middle;\n",
       "    }\n",
       "\n",
       "    .dataframe tbody tr th {\n",
       "        vertical-align: top;\n",
       "    }\n",
       "\n",
       "    .dataframe thead th {\n",
       "        text-align: right;\n",
       "    }\n",
       "</style>\n",
       "<table border=\"1\" class=\"dataframe\">\n",
       "  <thead>\n",
       "    <tr style=\"text-align: right;\">\n",
       "      <th></th>\n",
       "      <th>timestamp</th>\n",
       "      <th>reject_packs</th>\n",
       "      <th>machine_identifier</th>\n",
       "      <th>recipe</th>\n",
       "    </tr>\n",
       "  </thead>\n",
       "  <tbody>\n",
       "    <tr>\n",
       "      <th>0</th>\n",
       "      <td>2022-05-04T13:05:49.295Z</td>\n",
       "      <td>1.0</td>\n",
       "      <td>NaN</td>\n",
       "      <td>NaN</td>\n",
       "    </tr>\n",
       "    <tr>\n",
       "      <th>1</th>\n",
       "      <td>2022-05-04T01:15:28.947Z</td>\n",
       "      <td>0.0</td>\n",
       "      <td>NaN</td>\n",
       "      <td>NaN</td>\n",
       "    </tr>\n",
       "    <tr>\n",
       "      <th>2</th>\n",
       "      <td>2022-05-04T06:13:54.767Z</td>\n",
       "      <td>4.0</td>\n",
       "      <td>NaN</td>\n",
       "      <td>NaN</td>\n",
       "    </tr>\n",
       "    <tr>\n",
       "      <th>3</th>\n",
       "      <td>2022-05-04T03:35:29.769Z</td>\n",
       "      <td>0.0</td>\n",
       "      <td>NaN</td>\n",
       "      <td>NaN</td>\n",
       "    </tr>\n",
       "    <tr>\n",
       "      <th>4</th>\n",
       "      <td>2022-05-04T03:53:27.950Z</td>\n",
       "      <td>0.0</td>\n",
       "      <td>NaN</td>\n",
       "      <td>NaN</td>\n",
       "    </tr>\n",
       "    <tr>\n",
       "      <th>...</th>\n",
       "      <td>...</td>\n",
       "      <td>...</td>\n",
       "      <td>...</td>\n",
       "      <td>...</td>\n",
       "    </tr>\n",
       "    <tr>\n",
       "      <th>270195</th>\n",
       "      <td>2022-07-15T04:13:29.524+0000</td>\n",
       "      <td>NaN</td>\n",
       "      <td>innovative_cheese_machine</td>\n",
       "      <td>vegan parmesan</td>\n",
       "    </tr>\n",
       "    <tr>\n",
       "      <th>270196</th>\n",
       "      <td>2022-05-02T12:51:49.959+0000</td>\n",
       "      <td>NaN</td>\n",
       "      <td>innovative_cheese_machine</td>\n",
       "      <td>vegan parmesan</td>\n",
       "    </tr>\n",
       "    <tr>\n",
       "      <th>270197</th>\n",
       "      <td>2022-05-25T13:49:29.262+0000</td>\n",
       "      <td>NaN</td>\n",
       "      <td>innovative_cheese_machine</td>\n",
       "      <td>vegan parmesan</td>\n",
       "    </tr>\n",
       "    <tr>\n",
       "      <th>270198</th>\n",
       "      <td>2022-05-02T06:08:38.260+0000</td>\n",
       "      <td>NaN</td>\n",
       "      <td>innovative_cheese_machine</td>\n",
       "      <td>vegan parmesan</td>\n",
       "    </tr>\n",
       "    <tr>\n",
       "      <th>270199</th>\n",
       "      <td>2022-05-27T12:37:17.207+0000</td>\n",
       "      <td>NaN</td>\n",
       "      <td>innovative_cheese_machine</td>\n",
       "      <td>vegan parmesan</td>\n",
       "    </tr>\n",
       "  </tbody>\n",
       "</table>\n",
       "<p>270200 rows × 4 columns</p>\n",
       "</div>"
      ],
      "text/plain": [
       "                           timestamp  reject_packs         machine_identifier  \\\n",
       "0           2022-05-04T13:05:49.295Z           1.0                        NaN   \n",
       "1           2022-05-04T01:15:28.947Z           0.0                        NaN   \n",
       "2           2022-05-04T06:13:54.767Z           4.0                        NaN   \n",
       "3           2022-05-04T03:35:29.769Z           0.0                        NaN   \n",
       "4           2022-05-04T03:53:27.950Z           0.0                        NaN   \n",
       "...                              ...           ...                        ...   \n",
       "270195  2022-07-15T04:13:29.524+0000           NaN  innovative_cheese_machine   \n",
       "270196  2022-05-02T12:51:49.959+0000           NaN  innovative_cheese_machine   \n",
       "270197  2022-05-25T13:49:29.262+0000           NaN  innovative_cheese_machine   \n",
       "270198  2022-05-02T06:08:38.260+0000           NaN  innovative_cheese_machine   \n",
       "270199  2022-05-27T12:37:17.207+0000           NaN  innovative_cheese_machine   \n",
       "\n",
       "                recipe  \n",
       "0                  NaN  \n",
       "1                  NaN  \n",
       "2                  NaN  \n",
       "3                  NaN  \n",
       "4                  NaN  \n",
       "...                ...  \n",
       "270195  vegan parmesan  \n",
       "270196  vegan parmesan  \n",
       "270197  vegan parmesan  \n",
       "270198  vegan parmesan  \n",
       "270199  vegan parmesan  \n",
       "\n",
       "[270200 rows x 4 columns]"
      ]
     },
     "execution_count": 18,
     "metadata": {},
     "output_type": "execute_result"
    }
   ],
   "source": [
    "df4"
   ]
  }
 ],
 "metadata": {
  "kernelspec": {
   "display_name": "Python 3 (ipykernel)",
   "language": "python",
   "name": "python3"
  },
  "language_info": {
   "codemirror_mode": {
    "name": "ipython",
    "version": 3
   },
   "file_extension": ".py",
   "mimetype": "text/x-python",
   "name": "python",
   "nbconvert_exporter": "python",
   "pygments_lexer": "ipython3",
   "version": "3.10.9"
  }
 },
 "nbformat": 4,
 "nbformat_minor": 5
}
